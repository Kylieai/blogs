{
 "cells": [
  {
   "cell_type": "code",
   "execution_count": 26,
   "metadata": {},
   "outputs": [],
   "source": [
    "import tweepy\n",
    "import matplotlib.pyplot as plt\n",
    "import pandas as pd\n",
    "import pytz\n",
    "from tzlocal import get_localzone \n",
    "plt.style.use('fivethirtyeight')\n",
    "%matplotlib inline"
   ]
  },
  {
   "cell_type": "code",
   "execution_count": 31,
   "metadata": {},
   "outputs": [],
   "source": [
    "# go to apps.twitter.com to get free api credentials\n",
    "\n",
    "api_key = ''\n",
    "api_secret = ''\n",
    "access_token = ''\n",
    "access_secret = ''"
   ]
  },
  {
   "cell_type": "code",
   "execution_count": 32,
   "metadata": {},
   "outputs": [],
   "source": [
    "handle = 'airbnbhelp'"
   ]
  },
  {
   "cell_type": "code",
   "execution_count": 33,
   "metadata": {},
   "outputs": [],
   "source": [
    "# Create a connection to the Twitter API\n",
    "auth = tweepy.OAuthHandler(api_key, api_secret)\n",
    "auth.set_access_token(access_token, access_secret)\n",
    "api = tweepy.API(auth, wait_on_rate_limit=True, wait_on_rate_limit_notify=True) \n",
    "\n",
    "to_handle = []  # get a bunch tweets directed to the handle\n",
    "try:\n",
    "    for tweet in tweepy.Cursor(api.search, q='@'+handle, rpp=100, include_entities=False).items():\n",
    "        to_handle.append(tweet)\n",
    "except KeyboardInterrupt:\n",
    "    print \"stopping now\""
   ]
  },
  {
   "cell_type": "code",
   "execution_count": 34,
   "metadata": {
    "scrolled": true
   },
   "outputs": [
    {
     "name": "stdout",
     "output_type": "stream",
     "text": [
      "@AirbnbHelp milind.kpca@gmail.com\n",
      "913872983692910592\n",
      "CA_MilindLimaye\n",
      "271\n",
      "83\n",
      "2017-09-29 21:07:52\n"
     ]
    }
   ],
   "source": [
    "first_tweet = to_handle[0]\n",
    "print first_tweet.text                    # the text of the tweet\n",
    "print first_tweet.id_str                  # the unique id on twitter for this tweet\n",
    "print first_tweet.author.screen_name      # the author's handle\n",
    "print first_tweet.author.followers_count  # number of followers\n",
    "print first_tweet.author.friends_count    # number of following\n",
    "print first_tweet.created_at              # the date the tweet was written"
   ]
  },
  {
   "cell_type": "code",
   "execution_count": 35,
   "metadata": {},
   "outputs": [],
   "source": [
    "def clean_tweet(tweet_object):\n",
    "    date = pytz.utc.localize(tweet_object.created_at).astimezone(get_localzone())\n",
    "    return dict(text=tweet_object.text, author_handle=tweet_object.author.screen_name, twitter_id=tweet_object.id_str,\n",
    "                followers=tweet_object.author.followers_count,\n",
    "                following=tweet_object.author.friends_count,\n",
    "                in_reply_to = str(tweet_object.in_reply_to_status_id) if tweet_object.in_reply_to_status_id else None,\n",
    "                date_tweeted = date, hour=date.hour, day_of_week=date.strftime('%A'))"
   ]
  },
  {
   "cell_type": "code",
   "execution_count": 36,
   "metadata": {},
   "outputs": [
    {
     "data": {
      "text/plain": [
       "{'author_handle': u'CA_MilindLimaye',\n",
       " 'date_tweeted': datetime.datetime(2017, 9, 29, 14, 7, 52, tzinfo=<DstTzInfo 'America/Los_Angeles' PDT-1 day, 17:00:00 DST>),\n",
       " 'day_of_week': 'Friday',\n",
       " 'followers': 271,\n",
       " 'following': 83,\n",
       " 'hour': 14,\n",
       " 'in_reply_to': '913613666263674880',\n",
       " 'text': u'@AirbnbHelp milind.kpca@gmail.com',\n",
       " 'twitter_id': u'913872983692910592'}"
      ]
     },
     "execution_count": 36,
     "metadata": {},
     "output_type": "execute_result"
    }
   ],
   "source": [
    "clean_tweet(first_tweet)"
   ]
  },
  {
   "cell_type": "code",
   "execution_count": 37,
   "metadata": {},
   "outputs": [],
   "source": [
    "tweets_df = pd.DataFrame(map(clean_tweet, to_handle))  # create a pandas DataFrame of the data"
   ]
  },
  {
   "cell_type": "code",
   "execution_count": 38,
   "metadata": {},
   "outputs": [
    {
     "name": "stdout",
     "output_type": "stream",
     "text": [
      "Working with 2401 tweets to @airbnbhelp\n"
     ]
    },
    {
     "data": {
      "text/html": [
       "<div>\n",
       "<style>\n",
       "    .dataframe thead tr:only-child th {\n",
       "        text-align: right;\n",
       "    }\n",
       "\n",
       "    .dataframe thead th {\n",
       "        text-align: left;\n",
       "    }\n",
       "\n",
       "    .dataframe tbody tr th {\n",
       "        vertical-align: top;\n",
       "    }\n",
       "</style>\n",
       "<table border=\"1\" class=\"dataframe\">\n",
       "  <thead>\n",
       "    <tr style=\"text-align: right;\">\n",
       "      <th></th>\n",
       "      <th>author_handle</th>\n",
       "      <th>date_tweeted</th>\n",
       "      <th>day_of_week</th>\n",
       "      <th>followers</th>\n",
       "      <th>following</th>\n",
       "      <th>hour</th>\n",
       "      <th>in_reply_to</th>\n",
       "      <th>text</th>\n",
       "      <th>twitter_id</th>\n",
       "    </tr>\n",
       "    <tr>\n",
       "      <th>date_tweeted</th>\n",
       "      <th></th>\n",
       "      <th></th>\n",
       "      <th></th>\n",
       "      <th></th>\n",
       "      <th></th>\n",
       "      <th></th>\n",
       "      <th></th>\n",
       "      <th></th>\n",
       "      <th></th>\n",
       "    </tr>\n",
       "  </thead>\n",
       "  <tbody>\n",
       "    <tr>\n",
       "      <th>2017-09-29 14:07:52-07:00</th>\n",
       "      <td>CA_MilindLimaye</td>\n",
       "      <td>2017-09-29 14:07:52-07:00</td>\n",
       "      <td>Friday</td>\n",
       "      <td>271</td>\n",
       "      <td>83</td>\n",
       "      <td>14</td>\n",
       "      <td>913613666263674880</td>\n",
       "      <td>@AirbnbHelp milind.kpca@gmail.com</td>\n",
       "      <td>913872983692910592</td>\n",
       "    </tr>\n",
       "    <tr>\n",
       "      <th>2017-09-29 14:03:38-07:00</th>\n",
       "      <td>markjdonahue</td>\n",
       "      <td>2017-09-29 14:03:38-07:00</td>\n",
       "      <td>Friday</td>\n",
       "      <td>583</td>\n",
       "      <td>952</td>\n",
       "      <td>14</td>\n",
       "      <td>913860984573480960</td>\n",
       "      <td>@AirbnbHelp stranded. Homeless for the night. ...</td>\n",
       "      <td>913871915693068288</td>\n",
       "    </tr>\n",
       "  </tbody>\n",
       "</table>\n",
       "</div>"
      ],
      "text/plain": [
       "                             author_handle              date_tweeted  \\\n",
       "date_tweeted                                                           \n",
       "2017-09-29 14:07:52-07:00  CA_MilindLimaye 2017-09-29 14:07:52-07:00   \n",
       "2017-09-29 14:03:38-07:00     markjdonahue 2017-09-29 14:03:38-07:00   \n",
       "\n",
       "                          day_of_week  followers  following  hour  \\\n",
       "date_tweeted                                                        \n",
       "2017-09-29 14:07:52-07:00      Friday        271         83    14   \n",
       "2017-09-29 14:03:38-07:00      Friday        583        952    14   \n",
       "\n",
       "                                  in_reply_to  \\\n",
       "date_tweeted                                    \n",
       "2017-09-29 14:07:52-07:00  913613666263674880   \n",
       "2017-09-29 14:03:38-07:00  913860984573480960   \n",
       "\n",
       "                                                                        text  \\\n",
       "date_tweeted                                                                   \n",
       "2017-09-29 14:07:52-07:00                  @AirbnbHelp milind.kpca@gmail.com   \n",
       "2017-09-29 14:03:38-07:00  @AirbnbHelp stranded. Homeless for the night. ...   \n",
       "\n",
       "                                   twitter_id  \n",
       "date_tweeted                                   \n",
       "2017-09-29 14:07:52-07:00  913872983692910592  \n",
       "2017-09-29 14:03:38-07:00  913871915693068288  "
      ]
     },
     "execution_count": 38,
     "metadata": {},
     "output_type": "execute_result"
    }
   ],
   "source": [
    "tweets_df.index = tweets_df['date_tweeted']            # change the index to a datetime\n",
    "print \"Working with {} tweets to @{}\".format(tweets_df.shape[0], handle)\n",
    "\n",
    "tweets_df.head(2)"
   ]
  },
  {
   "cell_type": "code",
   "execution_count": 39,
   "metadata": {},
   "outputs": [
    {
     "data": {
      "text/plain": [
       "<matplotlib.text.Text at 0x112023b90>"
      ]
     },
     "execution_count": 39,
     "metadata": {},
     "output_type": "execute_result"
    },
    {
     "data": {
      "image/png": "[encoded data removed]",
      "text/plain": [
       "<matplotlib.figure.Figure at 0x10f214790>"
      ]
     },
     "metadata": {},
     "output_type": "display_data"
    }
   ],
   "source": [
    "ax = tweets_df.resample('24H').twitter_id.count().plot(title=\"Tweet Volume by Day\")  # Show volume of tweets over about 10 days\n",
    "ax.set_xlabel(\"Date\")\n",
    "ax.set_ylabel(\"Volume of Tweets\")"
   ]
  },
  {
   "cell_type": "code",
   "execution_count": 40,
   "metadata": {},
   "outputs": [],
   "source": [
    "from sklearn.feature_extraction.text import CountVectorizer\n",
    "import numpy as np"
   ]
  },
  {
   "cell_type": "code",
   "execution_count": 41,
   "metadata": {},
   "outputs": [],
   "source": [
    "vect = CountVectorizer(ngram_range=(1, 3), stop_words='english')\n",
    "tweets_dtm = vect.fit_transform(tweets_df['9/20/2017']['text'])  # Document Term Matrix"
   ]
  },
  {
   "cell_type": "code",
   "execution_count": 42,
   "metadata": {},
   "outputs": [
    {
     "name": "stdout",
     "output_type": "stream",
     "text": [
      "The phrase/word `impacted earthquake` occurred 569 times\n",
      "The phrase/word `impacted` occurred 570 times\n",
      "The phrase/word `activated` occurred 572 times\n",
      "The phrase/word `earthquake` occurred 572 times\n",
      "The phrase/word `program help` occurred 665 times\n",
      "The phrase/word `program` occurred 669 times\n",
      "The phrase/word `help` occurred 691 times\n",
      "The phrase/word `rt airbnbhelp` occurred 711 times\n",
      "The phrase/word `rt` occurred 738 times\n",
      "The phrase/word `airbnbhelp` occurred 905 times\n"
     ]
    }
   ],
   "source": [
    "top_ngrams = sorted(zip(vect.get_feature_names(),np.asarray(tweets_dtm.sum(axis=0)).ravel()), key=lambda x:x[1])[-10:]\n",
    "for ngram, occurence in top_ngrams:\n",
    "    print \"The phrase/word `{}` occurred {} times\".format(ngram, occurence)"
   ]
  },
  {
   "cell_type": "code",
   "execution_count": 43,
   "metadata": {},
   "outputs": [
    {
     "name": "stdout",
     "output_type": "stream",
     "text": [
      "https://twitter.com/AirbnbHelp/status/910757993616150528\n"
     ]
    }
   ],
   "source": [
    "# first tweet of 9/20/2017\n",
    "print \"https://twitter.com/AirbnbHelp/status/{}\".format(tweets_df['09/20/2017'].iloc[0]['twitter_id'])"
   ]
  },
  {
   "cell_type": "code",
   "execution_count": 44,
   "metadata": {},
   "outputs": [
    {
     "data": {
      "text/plain": [
       "<matplotlib.text.Text at 0x11219b550>"
      ]
     },
     "execution_count": 44,
     "metadata": {},
     "output_type": "execute_result"
    },
    {
     "data": {
      "image/png": "[encoded data removed]",
      "text/plain": [
       "<matplotlib.figure.Figure at 0x10c9a4ad0>"
      ]
     },
     "metadata": {},
     "output_type": "display_data"
    }
   ],
   "source": [
    "ax = tweets_df['hour'].value_counts().sort_index().plot(kind='bar', title=\"Tweet Volume by Hour\")    # Show the volume of tweets by the hour (hours are PST)\n",
    "ax.set_xlabel(\"Hour of the Day (in PST)\")\n",
    "ax.set_ylabel(\"Volume of Tweets\")"
   ]
  },
  {
   "cell_type": "code",
   "execution_count": 45,
   "metadata": {},
   "outputs": [],
   "source": [
    "from_handle = []  # get a bunch of tweets from the handle\n",
    "for tweet in tweepy.Cursor(api.user_timeline, screen_name=handle, rpp=100, include_entities=False).items():\n",
    "    from_handle.append(tweet)"
   ]
  },
  {
   "cell_type": "code",
   "execution_count": 46,
   "metadata": {},
   "outputs": [
    {
     "name": "stdout",
     "output_type": "stream",
     "text": [
      "Working with 3203 tweets from @airbnbhelp\n"
     ]
    },
    {
     "data": {
      "text/html": [
       "<div>\n",
       "<style>\n",
       "    .dataframe thead tr:only-child th {\n",
       "        text-align: right;\n",
       "    }\n",
       "\n",
       "    .dataframe thead th {\n",
       "        text-align: left;\n",
       "    }\n",
       "\n",
       "    .dataframe tbody tr th {\n",
       "        vertical-align: top;\n",
       "    }\n",
       "</style>\n",
       "<table border=\"1\" class=\"dataframe\">\n",
       "  <thead>\n",
       "    <tr style=\"text-align: right;\">\n",
       "      <th></th>\n",
       "      <th>author_handle</th>\n",
       "      <th>date_tweeted</th>\n",
       "      <th>day_of_week</th>\n",
       "      <th>followers</th>\n",
       "      <th>following</th>\n",
       "      <th>hour</th>\n",
       "      <th>in_reply_to</th>\n",
       "      <th>text</th>\n",
       "      <th>twitter_id</th>\n",
       "    </tr>\n",
       "  </thead>\n",
       "  <tbody>\n",
       "    <tr>\n",
       "      <th>0</th>\n",
       "      <td>AirbnbHelp</td>\n",
       "      <td>2017-09-29 14:25:02-07:00</td>\n",
       "      <td>Friday</td>\n",
       "      <td>50454</td>\n",
       "      <td>6006</td>\n",
       "      <td>14</td>\n",
       "      <td>913872983692910592</td>\n",
       "      <td>@CA_MilindLimaye directly to her email with an...</td>\n",
       "      <td>913877304123838464</td>\n",
       "    </tr>\n",
       "    <tr>\n",
       "      <th>1</th>\n",
       "      <td>AirbnbHelp</td>\n",
       "      <td>2017-09-29 14:24:51-07:00</td>\n",
       "      <td>Friday</td>\n",
       "      <td>50454</td>\n",
       "      <td>6006</td>\n",
       "      <td>14</td>\n",
       "      <td>913872983692910592</td>\n",
       "      <td>@CA_MilindLimaye Hi Milind, we were able to lo...</td>\n",
       "      <td>913877254354210817</td>\n",
       "    </tr>\n",
       "  </tbody>\n",
       "</table>\n",
       "</div>"
      ],
      "text/plain": [
       "  author_handle              date_tweeted day_of_week  followers  following  \\\n",
       "0    AirbnbHelp 2017-09-29 14:25:02-07:00      Friday      50454       6006   \n",
       "1    AirbnbHelp 2017-09-29 14:24:51-07:00      Friday      50454       6006   \n",
       "\n",
       "   hour         in_reply_to  \\\n",
       "0    14  913872983692910592   \n",
       "1    14  913872983692910592   \n",
       "\n",
       "                                                text          twitter_id  \n",
       "0  @CA_MilindLimaye directly to her email with an...  913877304123838464  \n",
       "1  @CA_MilindLimaye Hi Milind, we were able to lo...  913877254354210817  "
      ]
     },
     "execution_count": 46,
     "metadata": {},
     "output_type": "execute_result"
    }
   ],
   "source": [
    "from_tweets_df = pd.DataFrame(map(clean_tweet, from_handle))  # create a pandas DataFrame of the data\n",
    "print \"Working with {} tweets from @{}\".format(from_tweets_df.shape[0], handle)\n",
    "\n",
    "from_tweets_df.head(2)"
   ]
  },
  {
   "cell_type": "code",
   "execution_count": 47,
   "metadata": {},
   "outputs": [],
   "source": [
    "def get_reply_time_in_minutes(tweet_id):\n",
    "    if tweet_id in list(from_tweets_df['in_reply_to']):\n",
    "        return (from_tweets_df[from_tweets_df['in_reply_to']==tweet_id]['date_tweeted'][0] - \n",
    "                tweets_df[tweets_df['twitter_id']==tweet_id]['date_tweeted'][0]).total_seconds()/60\n",
    "    return 0"
   ]
  },
  {
   "cell_type": "code",
   "execution_count": 48,
   "metadata": {},
   "outputs": [],
   "source": [
    "tweets_df['reply_time'] = tweets_df['twitter_id'].apply(get_reply_time_in_minutes)"
   ]
  },
  {
   "cell_type": "code",
   "execution_count": 49,
   "metadata": {},
   "outputs": [
    {
     "data": {
      "text/plain": [
       "<matplotlib.text.Text at 0x114be2190>"
      ]
     },
     "execution_count": 49,
     "metadata": {},
     "output_type": "execute_result"
    },
    {
     "data": {
      "image/png": "[encoded data removed]",
      "text/plain": [
       "<matplotlib.figure.Figure at 0x114b09290>"
      ]
     },
     "metadata": {},
     "output_type": "display_data"
    }
   ],
   "source": [
    "hourly_reply_rates = tweets_df.groupby('hour')['reply_time'].mean()\n",
    "\n",
    "ax = hourly_reply_rates.plot(kind='bar', title=\"Tweet Average Response Time by Hour\")\n",
    "ax.set_xlabel('Hour (in PST)')\n",
    "ax.set_ylabel('Average Response Time (Minutes)')"
   ]
  },
  {
   "cell_type": "code",
   "execution_count": 50,
   "metadata": {},
   "outputs": [
    {
     "name": "stdout",
     "output_type": "stream",
     "text": [
      "Response time to tweets during work hours is 4.0 minutes\n",
      "Response time to tweets during non-work hours is 8.0 minutes\n"
     ]
    }
   ],
   "source": [
    "# calculate average reply time of tweets that came in between 9am-5pm PST\n",
    "work_hours_reply_time = hourly_reply_rates[(hourly_reply_rates.index>=9) & (hourly_reply_rates.index<17)].mean()\n",
    "print \"Response time to tweets during work hours is {} minutes\".format(round(work_hours_reply_time))\n",
    "# calculate average reply time of tweets that came in outside of 9am-5pm PST\n",
    "non_work_hours_reply_time = hourly_reply_rates[(hourly_reply_rates.index<9) | (hourly_reply_rates.index>=17)].mean()\n",
    "print \"Response time to tweets during non-work hours is {} minutes\".format(round(non_work_hours_reply_time))"
   ]
  }
 ],
 "metadata": {
  "kernelspec": {
   "display_name": "Python 2",
   "language": "python",
   "name": "python2"
  },
  "language_info": {
   "codemirror_mode": {
    "name": "ipython",
    "version": 2
   },
   "file_extension": ".py",
   "mimetype": "text/x-python",
   "name": "python",
   "nbconvert_exporter": "python",
   "pygments_lexer": "ipython2",
   "version": "2.7.10"
  }
 },
 "nbformat": 4,
 "nbformat_minor": 2
}
